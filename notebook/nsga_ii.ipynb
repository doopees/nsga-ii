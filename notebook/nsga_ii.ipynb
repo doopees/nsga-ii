{
  "nbformat": 4,
  "nbformat_minor": 0,
  "metadata": {
    "colab": {
      "name": "nsga-ii",
      "provenance": [],
      "collapsed_sections": [],
      "authorship_tag": "ABX9TyMwdqpIi2S+Hmztxm8m9rV8",
      "include_colab_link": true
    },
    "kernelspec": {
      "name": "python3",
      "display_name": "Python 3"
    }
  },
  "cells": [
    {
      "cell_type": "markdown",
      "metadata": {
        "id": "view-in-github",
        "colab_type": "text"
      },
      "source": [
        "<a href=\"https://colab.research.google.com/github/doopees/nsga-ii/blob/main/notebook/nsga_ii.ipynb\" target=\"_parent\"><img src=\"https://colab.research.google.com/assets/colab-badge.svg\" alt=\"Open In Colab\"/></a>"
      ]
    },
    {
      "cell_type": "code",
      "metadata": {
        "id": "SBZvP8shUrwC"
      },
      "source": [
        "import random\n",
        "import matplotlib.pyplot as plt"
      ],
      "execution_count": 1,
      "outputs": []
    },
    {
      "cell_type": "code",
      "metadata": {
        "id": "1aV2j2fcmQcf"
      },
      "source": [
        "class Item:\n",
        "    num_instances = 0\n",
        "\n",
        "    def __init__(self, value, weight):\n",
        "        self.value = value\n",
        "        self.weight = weight\n",
        "        self.id = Item.num_instances\n",
        "        self.name = f'i{self.id}'\n",
        "        Item.num_instances += 1\n",
        "\n",
        "    def __repr__(self):\n",
        "        return self.name"
      ],
      "execution_count": 2,
      "outputs": []
    },
    {
      "cell_type": "code",
      "metadata": {
        "id": "MoqwKi32mTMA"
      },
      "source": [
        "class Individual:\n",
        "\n",
        "    def __init__(self):\n",
        "        self.rank = None\n",
        "        self.distance = None\n",
        "        self.dominated = None\n",
        "        self.dominated_by = None\n",
        "\n",
        "    def dominates(self, other):\n",
        "        # The aim is to minimize f\n",
        "        return (all(f(self) <= f(other) for f in self.functions)\n",
        "                and any(f(self) < f(other) for f in self.functions))\n",
        "\n",
        "    def __lt__(self, other):\n",
        "        return (self.rank < other.rank\n",
        "                or (self.rank == other.rank\n",
        "                    and self.distance > other.distance))"
      ],
      "execution_count": 3,
      "outputs": []
    },
    {
      "cell_type": "code",
      "metadata": {
        "id": "zK9zS1qsmV7l"
      },
      "source": [
        "class KnapsackIndividual(Individual):\n",
        "    num_instances = 0\n",
        "\n",
        "    def __init__(self, chromosome, items, max_weight=600):\n",
        "        self.chromosome = chromosome\n",
        "        self.items = {item: gen for item, gen in zip(items, chromosome)}\n",
        "        self.max_weight = max_weight\n",
        "        self.name = f'p{KnapsackIndividual.num_instances}'\n",
        "        KnapsackIndividual.num_instances += 1\n",
        "\n",
        "    def __repr__(self):\n",
        "        return self.name\n",
        "\n",
        "    def __len__(self):\n",
        "        return len(self.chromosome)\n",
        "\n",
        "    def array(self):\n",
        "        return [item if gen else ''\n",
        "                for item, gen in self.items.items()]\n",
        "    \n",
        "    def total_value(self):\n",
        "        return sum(gen and item.value\n",
        "                   for item, gen in self.items.items())\n",
        "\n",
        "    def total_weight(self):\n",
        "        return sum(gen and item.weight\n",
        "                   for item, gen in self.items.items())\n",
        "        \n",
        "    def minus_total_value(self):\n",
        "        return -self.total_value()\n",
        "\n",
        "    def actual_total_weight(self):\n",
        "        total = self.total_weight()\n",
        "        return total if total <= self.max_weight else float('inf')\n",
        "        \n",
        "    @property\n",
        "    def functions(self):\n",
        "        return (KnapsackIndividual.minus_total_value,\n",
        "                KnapsackIndividual.total_weight)\n",
        "        \n",
        "    def crossover_onepoint(self, other):\n",
        "        idx = random.randrange(1 + len(self))\n",
        "        child1 = KnapsackIndividual(\n",
        "            self.chromosome[:idx] + other.chromosome[idx:],\n",
        "            self.items)\n",
        "        child2 = KnapsackIndividual(\n",
        "            other.chromosome[:idx] + self.chromosome[idx:],\n",
        "            self.items)\n",
        "        return child1, child2\n",
        "\n",
        "    def mutation_flip(self):\n",
        "        idx = random.randrange(len(self))\n",
        "        chromosome = self.chromosome.copy()\n",
        "        chromosome[idx] = int(not chromosome[idx])\n",
        "        return KnapsackIndividual(chromosome, self.items)"
      ],
      "execution_count": 4,
      "outputs": []
    },
    {
      "cell_type": "code",
      "metadata": {
        "id": "BjwWhAO_20nR"
      },
      "source": [
        "def non_dominated_sort(population):\n",
        "    rank = 0\n",
        "    frontier = []\n",
        "    frontiers = []\n",
        "    for individual in population:\n",
        "        individual.dominated_by = 0\n",
        "        individual.dominated = set()\n",
        "        for other in population:\n",
        "            if individual.dominates(other):\n",
        "                individual.dominated.add(other)\n",
        "            elif other.dominates(individual):\n",
        "                individual.dominated_by += 1\n",
        "        if not individual.dominated_by:\n",
        "            individual.rank = rank\n",
        "            frontier.append(individual)\n",
        "    while frontier:\n",
        "        frontiers.append(frontier)\n",
        "        next_frontier = []\n",
        "        for individual in frontier:\n",
        "            for dominated in individual.dominated:\n",
        "                dominated.dominated_by -= 1\n",
        "                if not dominated.dominated_by:\n",
        "                    dominated.rank = rank + 1\n",
        "                    next_frontier.append(dominated)\n",
        "        rank += 1\n",
        "        frontier = next_frontier\n",
        "    return frontiers"
      ],
      "execution_count": 5,
      "outputs": []
    },
    {
      "cell_type": "code",
      "metadata": {
        "id": "Ln_9I8uzKDGr"
      },
      "source": [
        "def batches(iterable, n=3):\n",
        "        for i in range(len(iterable) - (n-1)):\n",
        "            yield iterable[i:i+n]\n",
        "\n",
        "def crowding_distance_assignment(frontier):\n",
        "    functions = frontier[0].functions\n",
        "    for individual in frontier:\n",
        "        individual.distance = 0\n",
        "    for f in functions:\n",
        "        # Reverse is not used because the aim is to minimize f\n",
        "        frontier = sorted(frontier, key=f)\n",
        "        frontier[0].distance = frontier[-1].distance = float('inf')\n",
        "        for prev, individual, next_ in batches(frontier):\n",
        "            individual.distance += f(next_) - f(prev)"
      ],
      "execution_count": 6,
      "outputs": []
    },
    {
      "cell_type": "code",
      "metadata": {
        "id": "dMQM-jWYfUdz"
      },
      "source": [
        "def next_population(parents, offspring):\n",
        "    new_population = []\n",
        "    popsize = len(parents)\n",
        "    frontiers = non_dominated_sort(parents + offspring)\n",
        "    for frontier in frontiers:\n",
        "        crowding_distance_assignment(frontier)\n",
        "        if len(new_population) + len(frontier) > popsize:\n",
        "            break\n",
        "        new_population.extend(frontier)\n",
        "    needed = popsize - len(new_population)\n",
        "    frontier = sorted(frontier)\n",
        "    new_population.extend(frontier[:needed])\n",
        "    return new_population"
      ],
      "execution_count": 7,
      "outputs": []
    },
    {
      "cell_type": "code",
      "metadata": {
        "id": "y1oLxamNVwSX"
      },
      "source": [
        "random.seed(7)\n",
        "\n",
        "Item.num_instances = 0\n",
        "KnapsackIndividual.num_instances = 0\n",
        "\n",
        "popsize = 60\n",
        "num_items = 60\n",
        "\n",
        "items = [Item(random.uniform(0, 60),\n",
        "              random.uniform(0, 60)) for _ in range(num_items)]\n",
        "\n",
        "population = [KnapsackIndividual(\n",
        "                  [random.getrandbits(1) for _ in range(num_items)],\n",
        "                  items\n",
        "              ) for _ in range (popsize)]"
      ],
      "execution_count": 8,
      "outputs": []
    },
    {
      "cell_type": "code",
      "metadata": {
        "id": "sTNp7HxloHFI",
        "colab": {
          "base_uri": "https://localhost:8080/"
        },
        "outputId": "9388e390-5952-4b3c-edd9-5d241a23d58e"
      },
      "source": [
        "frontiers = non_dominated_sort(population)\n",
        "frontiers"
      ],
      "execution_count": 9,
      "outputs": [
        {
          "output_type": "execute_result",
          "data": {
            "text/plain": [
              "[[p0, p3, p11, p15, p16, p25, p26, p31, p34, p36, p37, p50, p51],\n",
              " [p5, p45, p46, p23, p19, p8, p59, p35, p13, p22, p44, p41],\n",
              " [p56, p57, p14, p29, p17, p47, p9, p58, p52],\n",
              " [p21, p55, p39, p1, p7, p33, p30],\n",
              " [p20, p28, p24, p6, p49, p54, p48, p43, p27, p4],\n",
              " [p12, p42, p10, p38, p2],\n",
              " [p53, p32, p18, p40]]"
            ]
          },
          "metadata": {
            "tags": []
          },
          "execution_count": 9
        }
      ]
    },
    {
      "cell_type": "code",
      "metadata": {
        "id": "5Chg9JoEpb2Q",
        "colab": {
          "base_uri": "https://localhost:8080/",
          "height": 265
        },
        "outputId": "a75051fa-1c3a-4928-b48e-3b77e4306f92"
      },
      "source": [
        "def plot(population, color='C0', show_names=False):\n",
        "    for p in population:\n",
        "        x = p.total_value()\n",
        "        y = p.total_weight()\n",
        "        plt.plot(x, y, marker='o', color=color)\n",
        "        if show_names:\n",
        "            plt.text(x+0.5, y-1, p)\n",
        "\n",
        "plot(population, show_names=True)"
      ],
      "execution_count": 10,
      "outputs": [
        {
          "output_type": "display_data",
          "data": {
            "image/png": "[encoded data removed]",
            "text/plain": [
              "<Figure size 432x288 with 1 Axes>"
            ]
          },
          "metadata": {
            "tags": [],
            "needs_background": "light"
          }
        }
      ]
    },
    {
      "cell_type": "code",
      "metadata": {
        "id": "vWzyezfxsIMI",
        "colab": {
          "base_uri": "https://localhost:8080/",
          "height": 265
        },
        "outputId": "a3981b05-8181-48f9-e09e-f6f8e66f020d"
      },
      "source": [
        "def plot_frontiers(frontiers):\n",
        "    for i, frontier in enumerate(frontiers):\n",
        "        color = f'C{i}'\n",
        "        plot(frontier, color)\n",
        "        frontier = sorted(frontier, key=lambda p: p.total_value())\n",
        "        for p1, p2 in batches(frontier, n=2):\n",
        "            x1 = p1.total_value()\n",
        "            y1 = p1.total_weight()\n",
        "            x2 = p2.total_value()\n",
        "            y2 = p2.total_weight()\n",
        "            plt.plot([x1, x2], [y1, y2], color)\n",
        "\n",
        "plot_frontiers(frontiers)"
      ],
      "execution_count": 11,
      "outputs": [
        {
          "output_type": "display_data",
          "data": {
            "image/png": "[encoded data removed]",
            "text/plain": [
              "<Figure size 432x288 with 1 Axes>"
            ]
          },
          "metadata": {
            "tags": [],
            "needs_background": "light"
          }
        }
      ]
    },
    {
      "cell_type": "code",
      "metadata": {
        "id": "Aj6HclEAlRVN"
      },
      "source": [
        "parents = population[:popsize//2]\n",
        "offspring = population[-popsize//2:]\n",
        "\n",
        "new_population = next_population(parents, offspring)"
      ],
      "execution_count": 12,
      "outputs": []
    },
    {
      "cell_type": "code",
      "metadata": {
        "id": "TVaqjJlj1QA1"
      },
      "source": [
        "def selection(population):\n",
        "    mating_pool = []\n",
        "    for _ in range(len(population)):\n",
        "        match1 = random.sample(population, 2)\n",
        "        match2 = random.sample(population, 2)\n",
        "        parents = min(match1), min(match2)\n",
        "        mating_pool.append(parents)\n",
        "    return mating_pool\n",
        "\n",
        "\n",
        "def crossover(mating_pool):\n",
        "    offspring = []\n",
        "    for parent1, parent2 in mating_pool:\n",
        "        children = parent1.crossover_onepoint(parent2)\n",
        "        offspring.extend(children)\n",
        "    return offspring\n",
        "\n",
        "\n",
        "def mutation(offspring, pmut):\n",
        "    return [child.mutation_flip()\n",
        "            if random.random() < pmut else child\n",
        "            for child in offspring]\n",
        "\n",
        "\n",
        "def nsga_ii(population, ngen, pmut):\n",
        "    frontiers = non_dominated_sort(population)\n",
        "    for frontier in frontiers:\n",
        "        crowding_distance_assignment(frontier)\n",
        "    \n",
        "    for i in range(ngen):\n",
        "        mating_pool = selection(population)\n",
        "        offspring = crossover(mating_pool)\n",
        "        offspring = mutation(offspring, pmut)\n",
        "        population = next_population(population, offspring)\n",
        "\n",
        "    return population"
      ],
      "execution_count": 13,
      "outputs": []
    },
    {
      "cell_type": "code",
      "metadata": {
        "id": "-Me_sNbUCL8m",
        "colab": {
          "base_uri": "https://localhost:8080/",
          "height": 265
        },
        "outputId": "0c6665c4-2055-45e6-f817-56113cd196ef"
      },
      "source": [
        "pareto = nsga_ii(population, 300, 0.5)\n",
        "frontiers = non_dominated_sort(pareto)\n",
        "\n",
        "plot_frontiers(frontiers)"
      ],
      "execution_count": 14,
      "outputs": [
        {
          "output_type": "display_data",
          "data": {
            "image/png": "[encoded data removed]",
            "text/plain": [
              "<Figure size 432x288 with 1 Axes>"
            ]
          },
          "metadata": {
            "tags": [],
            "needs_background": "light"
          }
        }
      ]
    }
  ]
}